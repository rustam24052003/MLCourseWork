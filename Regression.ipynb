{
 "cells": [
  {
   "cell_type": "code",
   "execution_count": 142,
   "id": "4694f12c-4424-4ba2-9a49-35fc8beda31f",
   "metadata": {},
   "outputs": [],
   "source": [
    "import pandas as pd\n",
    "import numpy as np\n",
    "import matplotlib.pyplot as plt\n",
    "from sklearn.svm import SVR\n",
    "from sklearn.tree import DecisionTreeRegressor\n",
    "from sklearn import tree\n",
    "from sklearn.neural_network import MLPRegressor\n",
    "from sklearn.model_selection import train_test_split\n",
    "from sklearn.linear_model import LinearRegression\n",
    "from sklearn.model_selection import cross_val_score,KFold\n",
    "from sklearn.preprocessing import StandardScaler\n",
    "from sklearn.metrics import make_scorer, mean_squared_error"
   ]
  },
  {
   "cell_type": "code",
   "execution_count": 161,
   "id": "4c3ec4b3-2cff-41ed-a2a9-d18094d855ba",
   "metadata": {},
   "outputs": [
    {
     "name": "stdout",
     "output_type": "stream",
     "text": [
      "      AT      V       AP     RH      PE\n",
      "0   8.34  40.77  1010.84  90.01  480.48\n",
      "1  23.64  58.49  1011.40  74.20  445.75\n",
      "2  29.74  56.90  1007.15  41.91  438.76\n",
      "3  19.07  49.69  1007.22  76.79  453.09\n",
      "4  11.80  40.66  1017.13  97.20  464.43\n"
     ]
    }
   ],
   "source": [
    "ccpp_df = pd.read_csv('CCPP.csv', index_col=False) \n",
    "print(data.head())"
   ]
  },
  {
   "cell_type": "code",
   "execution_count": 162,
   "id": "71f31b98-8636-451d-a81a-ca0a72d4cf15",
   "metadata": {},
   "outputs": [
    {
     "name": "stdout",
     "output_type": "stream",
     "text": [
      "(9568, 5)\n",
      "                AT            V           AP           RH           PE\n",
      "count  9568.000000  9568.000000  9568.000000  9568.000000  9568.000000\n",
      "mean     19.651231    54.305804  1013.259078    73.308978   454.365009\n",
      "std       7.452473    12.707893     5.938784    14.600269    17.066995\n",
      "min       1.810000    25.360000   992.890000    25.560000   420.260000\n",
      "25%      13.510000    41.740000  1009.100000    63.327500   439.750000\n",
      "50%      20.345000    52.080000  1012.940000    74.975000   451.550000\n",
      "75%      25.720000    66.540000  1017.260000    84.830000   468.430000\n",
      "max      37.110000    81.560000  1033.300000   100.160000   495.760000\n"
     ]
    }
   ],
   "source": [
    "print(data.shape)\n",
    "print(data.describe())"
   ]
  },
  {
   "cell_type": "code",
   "execution_count": 163,
   "id": "cda8966d-c33b-40fb-96a8-8c8d33ad9994",
   "metadata": {},
   "outputs": [
    {
     "name": "stdout",
     "output_type": "stream",
     "text": [
      "AT    0\n",
      "V     0\n",
      "AP    0\n",
      "RH    0\n",
      "PE    0\n",
      "dtype: int64\n"
     ]
    }
   ],
   "source": [
    "print(data.isnull().sum())"
   ]
  },
  {
   "cell_type": "code",
   "execution_count": 168,
   "id": "62eb0ee0-f194-43c9-a8a0-fc9d956a461c",
   "metadata": {},
   "outputs": [],
   "source": [
    "X = data[['AT', 'V', 'AP', 'RH']]  # Ambient Temperature, Pressure, etc.\n",
    "y = data['PE']"
   ]
  },
  {
   "cell_type": "code",
   "execution_count": 169,
   "id": "763812fe-2e39-431c-8679-7adc7789771a",
   "metadata": {},
   "outputs": [],
   "source": [
    "scaler = StandardScaler()\n",
    "X_scaled = scaler.fit_transform(X)"
   ]
  },
  {
   "cell_type": "code",
   "execution_count": 170,
   "id": "97b1fc70-dc1a-401e-8515-2b52c1e18ef8",
   "metadata": {},
   "outputs": [
    {
     "name": "stdout",
     "output_type": "stream",
     "text": [
      "MSE: 20.00\n",
      "K-fold cross validation MSE: 20.81\n"
     ]
    }
   ],
   "source": [
    "X_train, X_test, y_train, y_test = train_test_split(X_scaled, y, test_size=0.3, random_state=42)\n",
    "\n",
    "lr_model = LinearRegression()\n",
    "lr_model.fit(X_train, y_train)\n",
    "\n",
    "y_pred = lr_model.predict(X_test)\n",
    "mse = mean_squared_error(y_test, y_pred)\n",
    "print(f'MSE: {mse:.2f}')\n",
    "\n",
    "#K-fold\n",
    "kfold = KFold(n_splits=5, shuffle=True, random_state=42)\n",
    "scores = cross_val_score(lr_model, X, y, cv=kfold, scoring='neg_mean_squared_error')\n",
    "mse_scores = -scores\n",
    "print(f'K-fold cross validation MSE: {mse_scores.mean():.2f}')"
   ]
  },
  {
   "cell_type": "code",
   "execution_count": 171,
   "id": "69627d09-3ea2-4b99-a709-3d884f55a43a",
   "metadata": {},
   "outputs": [
    {
     "name": "stdout",
     "output_type": "stream",
     "text": [
      "MSE: 20.16\n",
      "K-fold cross validation MSE: 20.93\n"
     ]
    }
   ],
   "source": [
    "svm_model = SVR(kernel='linear')\n",
    "svm_model.fit(X_train, y_train)\n",
    "\n",
    "y_pred = svm_model.predict(X_test)\n",
    "mse = mean_squared_error(y_test, y_pred)\n",
    "print(f'MSE: {mse:.2f}')\n",
    "\n",
    "#K-fold\n",
    "kfold = KFold(n_splits=5, shuffle=True, random_state=42)\n",
    "scores = cross_val_score(svm_model, X, y, cv=kfold, scoring='neg_mean_squared_error')\n",
    "mse_scores = -scores\n",
    "print(f'K-fold cross validation MSE: {mse_scores.mean():.2f}')"
   ]
  },
  {
   "cell_type": "code",
   "execution_count": 172,
   "id": "90a9f8cd-35cc-43e6-bb5c-5d15921f3e3b",
   "metadata": {},
   "outputs": [
    {
     "name": "stdout",
     "output_type": "stream",
     "text": [
      "MSE: 15.53\n",
      "K-fold cross validation MSE: 17.41\n"
     ]
    }
   ],
   "source": [
    "tree_model = DecisionTreeRegressor(max_depth=10, random_state=42)\n",
    "tree_model.fit(X_train, y_train)\n",
    "\n",
    "y_pred=tree_model.predict(X_test)\n",
    "mse = mean_squared_error(y_test, y_pred)\n",
    "print(f'MSE: {mse:.2f}')\n",
    "\n",
    "#K-fold\n",
    "kfold = KFold(n_splits=5, shuffle=True, random_state=42)\n",
    "scores = cross_val_score(tree_model, X, y, cv=kfold, scoring='neg_mean_squared_error')\n",
    "mse_scores = -scores\n",
    "print(f'K-fold cross validation MSE: {mse_scores.mean():.2f}')"
   ]
  },
  {
   "cell_type": "code",
   "execution_count": 174,
   "id": "fa4f08e0-0096-4c08-bc0c-6450f80dcfcc",
   "metadata": {},
   "outputs": [
    {
     "name": "stdout",
     "output_type": "stream",
     "text": [
      "MSE: 16.91\n",
      "K-fold cross validation MSE: 24.93\n"
     ]
    }
   ],
   "source": [
    "#mlp_model = MLPRegressor(hidden_layer_sizes=(64, 64), max_iter=1000, random_state=42)\n",
    "mlp_model = MLPRegressor(hidden_layer_sizes=(100,), max_iter=500, random_state=42)\n",
    "mlp_model.fit(X_train, y_train)\n",
    "\n",
    "y_pred=mlp_model.predict(X_test)\n",
    "mse = mean_squared_error(y_test, y_pred)\n",
    "print(f'MSE: {mse:.2f}')\n",
    "\n",
    "#K-fold\n",
    "kfold = KFold(n_splits=5, shuffle=True, random_state=42)\n",
    "scores = cross_val_score(mlp_model, X, y, cv=kfold, scoring='neg_mean_squared_error')\n",
    "mse_scores = -scores\n",
    "print(f'K-fold cross validation MSE: {mse_scores.mean():.2f}')"
   ]
  },
  {
   "cell_type": "code",
   "execution_count": null,
   "id": "cacc2421-f558-4ba9-ad51-22233fad308b",
   "metadata": {},
   "outputs": [],
   "source": []
  }
 ],
 "metadata": {
  "kernelspec": {
   "display_name": "Python 3 (ipykernel)",
   "language": "python",
   "name": "python3"
  },
  "language_info": {
   "codemirror_mode": {
    "name": "ipython",
    "version": 3
   },
   "file_extension": ".py",
   "mimetype": "text/x-python",
   "name": "python",
   "nbconvert_exporter": "python",
   "pygments_lexer": "ipython3",
   "version": "3.12.3"
  }
 },
 "nbformat": 4,
 "nbformat_minor": 5
}
