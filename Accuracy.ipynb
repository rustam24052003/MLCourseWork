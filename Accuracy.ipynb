{
 "cells": [
  {
   "cell_type": "code",
   "execution_count": 66,
   "id": "82a63d06-4220-48d2-b7ab-020673593e03",
   "metadata": {},
   "outputs": [
    {
     "name": "stdout",
     "output_type": "stream",
     "text": [
      "Logistic Regression Accuracy: 0.8249152542372882\n",
      "SVM Accuracy: 0.8247457627118644\n",
      "Decision Tree Classifier Accuracy: 0.7271186440677966\n",
      "MLP Classifier Accuracy: 0.7978531073446329\n"
     ]
    }
   ],
   "source": [
    "import pandas as pd\n",
    "import numpy as np\n",
    "from sklearn.model_selection import KFold, cross_val_score\n",
    "from sklearn.linear_model import LogisticRegression\n",
    "from sklearn.svm import SVC\n",
    "from sklearn.tree import DecisionTreeClassifier\n",
    "from sklearn.neural_network import MLPClassifier\n",
    "from sklearn.preprocessing import StandardScaler\n",
    "from sklearn.metrics import accuracy_score\n",
    "\n",
    "# Load Heart Disease dataset (Cleveland subset) from a local file\n",
    "url = \"processed.cleveland.data.csv\"  # Update with the correct file path\n",
    "headers = [\"age\", \"sex\", \"cp\", \"trestbps\", \"chol\", \"fbs\", \"restecg\", \"thalach\", \"exang\", \"oldpeak\", \"slope\", \"ca\", \"thal\", \"num\"]  # Use correct headers\n",
    "df = pd.read_csv(url, header=None, names=headers)\n",
    "\n",
    "# Replace missing values denoted by '?' with NaN and drop them (you could also impute them)\n",
    "df.replace('?', np.nan, inplace=True)\n",
    "df.dropna(inplace=True)\n",
    "\n",
    "# Convert target 'num' to binary classification (presence of heart disease)\n",
    "df['num'] = df['num'].apply(lambda x: 1 if x > 0 else 0)  # 1 = presence, 0 = absence of heart disease\n",
    "\n",
    "# Separate features (X) and target (y)\n",
    "X = df.drop('num', axis=1)\n",
    "y = df['num']\n",
    "\n",
    "# Standardize the features\n",
    "scaler = StandardScaler()\n",
    "X_scaled = scaler.fit_transform(X)\n",
    "\n",
    "# K-fold cross-validation setup (let's use K=5)\n",
    "k = 5\n",
    "kf = KFold(n_splits=k, shuffle=True, random_state=42)\n",
    "\n",
    "### Apply the models and evaluate performance ###\n",
    "\n",
    "# Logistic Regression\n",
    "log_reg = LogisticRegression(max_iter=1000)\n",
    "log_reg_scores = cross_val_score(log_reg, X_scaled, y, cv=kf, scoring='accuracy')\n",
    "print(f\"Logistic Regression Accuracy: {np.mean(log_reg_scores)}\")\n",
    "\n",
    "# Support Vector Machine Classifier\n",
    "svc = SVC()\n",
    "svc_scores = cross_val_score(svc, X_scaled, y, cv=kf, scoring='accuracy')\n",
    "print(f\"SVM Accuracy: {np.mean(svc_scores)}\")\n",
    "\n",
    "# Decision Tree Classifier\n",
    "tree_clf = DecisionTreeClassifier(random_state=42)\n",
    "tree_clf_scores = cross_val_score(tree_clf, X_scaled, y, cv=kf, scoring='accuracy')\n",
    "print(f\"Decision Tree Classifier Accuracy: {np.mean(tree_clf_scores)}\")\n",
    "\n",
    "# Multilayer Perceptron Classifier\n",
    "mlp_clf = MLPClassifier(random_state=42, max_iter=1000)\n",
    "mlp_clf_scores = cross_val_score(mlp_clf, X_scaled, y, cv=kf, scoring='accuracy')\n",
    "print(f\"MLP Classifier Accuracy: {np.mean(mlp_clf_scores)}\")\n"
   ]
  },
  {
   "cell_type": "code",
   "execution_count": null,
   "id": "ea8f84a1-01cd-41b5-8104-e26e78c15f0f",
   "metadata": {},
   "outputs": [],
   "source": []
  },
  {
   "cell_type": "code",
   "execution_count": null,
   "id": "da33e86a-281e-42ef-8892-d94ebf79f1ed",
   "metadata": {},
   "outputs": [],
   "source": []
  },
  {
   "cell_type": "code",
   "execution_count": null,
   "id": "e66adf65-d328-418d-ba90-9085691c5dba",
   "metadata": {},
   "outputs": [],
   "source": []
  },
  {
   "cell_type": "code",
   "execution_count": null,
   "id": "e8b67a7c-6e81-43a8-b4d6-2cbb30354b14",
   "metadata": {},
   "outputs": [],
   "source": []
  },
  {
   "cell_type": "code",
   "execution_count": null,
   "id": "3ba0b467-7e6b-415a-b77c-d9daca11b626",
   "metadata": {},
   "outputs": [],
   "source": []
  }
 ],
 "metadata": {
  "kernelspec": {
   "display_name": "Python 3 (ipykernel)",
   "language": "python",
   "name": "python3"
  },
  "language_info": {
   "codemirror_mode": {
    "name": "ipython",
    "version": 3
   },
   "file_extension": ".py",
   "mimetype": "text/x-python",
   "name": "python",
   "nbconvert_exporter": "python",
   "pygments_lexer": "ipython3",
   "version": "3.12.2"
  }
 },
 "nbformat": 4,
 "nbformat_minor": 5
}
